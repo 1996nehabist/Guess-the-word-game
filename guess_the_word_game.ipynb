{
 "cells": [
  {
   "cell_type": "code",
   "execution_count": 5,
   "metadata": {},
   "outputs": [
    {
     "data": {
      "text/plain": [
       "64"
      ]
     },
     "execution_count": 5,
     "metadata": {},
     "output_type": "execute_result"
    }
   ],
   "source": [
    "import random\n",
    "num = random.randint(1,100)\n",
    "num"
   ]
  },
  {
   "cell_type": "code",
   "execution_count": 6,
   "metadata": {},
   "outputs": [],
   "source": [
    "guesses = []"
   ]
  },
  {
   "cell_type": "code",
   "execution_count": 8,
   "metadata": {},
   "outputs": [
    {
     "name": "stdout",
     "output_type": "stream",
     "text": [
      "I'm thinking of a number between 1 and 100.\n",
      "  What is your guess? 40\n",
      "cold\n",
      "I'm thinking of a number between 1 and 100.\n",
      "  What is your guess? 21\n",
      "cold\n",
      "I'm thinking of a number between 1 and 100.\n",
      "  What is your guess? 60\n",
      "warm\n",
      "4\n",
      "WARMER!\n",
      "I'm thinking of a number between 1 and 100.\n",
      "  What is your guess? 64\n",
      "CONGRATULATIONS, YOU GUESSED IT IN ONLY 4 GUESSES!!\n"
     ]
    }
   ],
   "source": [
    "while True:\n",
    "    guess = int(input(\"I'm thinking of a number between 1 and 100.\\n  What is your guess? \"))\n",
    "    \n",
    "    guesses.append(guess)\n",
    "    \n",
    "    if guess < 1 or guess > 100:\n",
    "        print('OUT OF BOUNDS! Please try again: ')\n",
    "        continue\n",
    "        \n",
    "    if guess == num:\n",
    "        print(f'CONGRATULATIONS, YOU GUESSED IT IN ONLY {len(guesses)} GUESSES!!')\n",
    "        for i in guesses:\n",
    "            guesses.pop()\n",
    "        break\n",
    "        \n",
    "    if guess in range(num-10, num+10):\n",
    "        print(\"warm\")\n",
    "        if len(guesses) > 2:  \n",
    "            if abs(num-guess) < abs(num-guesses[-2]):\n",
    "                print('WARMER!')\n",
    "            else:\n",
    "                print('COLDER!')\n",
    "      \n",
    "    else:\n",
    "        print(\"cold\")\n",
    "    \n",
    "    \n",
    "   "
   ]
  },
  {
   "cell_type": "code",
   "execution_count": 2,
   "metadata": {},
   "outputs": [
    {
     "name": "stdout",
     "output_type": "stream",
     "text": [
      "guess the number45\n",
      "guess smaller number\n",
      "guess the number12\n",
      "guess bigger number\n",
      "guess the number22\n",
      "guess bigger number\n",
      "guess the number33\n",
      "guess smaller number\n",
      "guess the number30\n",
      "guess smaller number\n",
      "guess the number25\n",
      "you hit jackpot in  5  guesses\n"
     ]
    }
   ],
   "source": [
    "import random\n",
    "jackpot = random.randint(1,100)\n",
    "guess = int(input(\"guess the number\"))\n",
    "counter=1\n",
    "while guess != jackpot:\n",
    "    counter+=1\n",
    "    if  guess < jackpot:\n",
    "        print(\"guess bigger number\")\n",
    "    else:\n",
    "        print(\"guess smaller number\")\n",
    "    \n",
    "    guess = int(input(\"guess the number\"))\n",
    "    \n",
    "\n",
    "print(\"you hit jackpot in \", counter , \" guesses\")"
   ]
  },
  {
   "cell_type": "code",
   "execution_count": null,
   "metadata": {},
   "outputs": [],
   "source": []
  }
 ],
 "metadata": {
  "kernelspec": {
   "display_name": "Python 3 (ipykernel)",
   "language": "python",
   "name": "python3"
  },
  "language_info": {
   "codemirror_mode": {
    "name": "ipython",
    "version": 3
   },
   "file_extension": ".py",
   "mimetype": "text/x-python",
   "name": "python",
   "nbconvert_exporter": "python",
   "pygments_lexer": "ipython3",
   "version": "3.11.3"
  }
 },
 "nbformat": 4,
 "nbformat_minor": 4
}
